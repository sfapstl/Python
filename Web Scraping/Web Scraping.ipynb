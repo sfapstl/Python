{
 "cells": [
  {
   "cell_type": "code",
   "execution_count": 1,
   "id": "f355115a-eb6d-480c-ad29-9986dd2be15e",
   "metadata": {},
   "outputs": [],
   "source": [
    "# Import BeautifulSoup and Requests libraries for web scraping\n",
    "\n",
    "from bs4 import BeautifulSoup\n",
    "import requests"
   ]
  },
  {
   "cell_type": "code",
   "execution_count": 2,
   "id": "56af5583-4d37-499c-b12c-3a403f25f244",
   "metadata": {},
   "outputs": [],
   "source": [
    "page = requests.get('https://en.wikipedia.org/wiki/List_of_largest_companies_in_the_United_States_by_revenue')"
   ]
  },
  {
   "cell_type": "code",
   "execution_count": 3,
   "id": "72c08e6b-4fe1-490d-90e5-b7b58de93275",
   "metadata": {},
   "outputs": [],
   "source": [
    "soup = BeautifulSoup(page.text, 'html')"
   ]
  },
  {
   "cell_type": "code",
   "execution_count": null,
   "id": "bdbaf660-f71c-45ec-9702-60ea427d86fe",
   "metadata": {},
   "outputs": [],
   "source": [
    "print(soup)"
   ]
  },
  {
   "cell_type": "code",
   "execution_count": null,
   "id": "8ab051bd-d397-4088-8dfc-bc259c58cca4",
   "metadata": {},
   "outputs": [],
   "source": [
    "# Locate table containing needed data\n",
    "\n",
    "soup.find_all('table')[1]"
   ]
  },
  {
   "cell_type": "code",
   "execution_count": null,
   "id": "16fcc4e7-944d-45b4-a2e2-e964910ed3e5",
   "metadata": {},
   "outputs": [],
   "source": [
    "# Isolate the table containing the needed data\n",
    "\n",
    "table = soup.find_all('table')[1]\n",
    "\n",
    "print(table)"
   ]
  },
  {
   "cell_type": "code",
   "execution_count": 7,
   "id": "5b17b01f-493b-459f-a5c8-da5ff24263a4",
   "metadata": {},
   "outputs": [
    {
     "data": {
      "text/plain": [
       "[<th>Rank\n",
       " </th>,\n",
       " <th>Name\n",
       " </th>,\n",
       " <th>Industry\n",
       " </th>,\n",
       " <th>Revenue <br/>(USD millions)\n",
       " </th>,\n",
       " <th>Revenue growth\n",
       " </th>,\n",
       " <th>Employees\n",
       " </th>,\n",
       " <th>Headquarters\n",
       " </th>]"
      ]
     },
     "execution_count": 7,
     "metadata": {},
     "output_type": "execute_result"
    }
   ],
   "source": [
    "# Locate the column names\n",
    "\n",
    "table.find_all('th')"
   ]
  },
  {
   "cell_type": "code",
   "execution_count": 8,
   "id": "cff34f58-013f-4448-9037-5095fd1e2cba",
   "metadata": {},
   "outputs": [],
   "source": [
    "world_table = table.find_all('th')"
   ]
  },
  {
   "cell_type": "code",
   "execution_count": 9,
   "id": "fdc63ad4-96c8-473e-933d-c082797fd31e",
   "metadata": {},
   "outputs": [
    {
     "name": "stdout",
     "output_type": "stream",
     "text": [
      "['Rank', 'Name', 'Industry', 'Revenue (USD millions)', 'Revenue growth', 'Employees', 'Headquarters']\n"
     ]
    }
   ],
   "source": [
    "# Insert the column titles into a list\n",
    "\n",
    "world_table_titles = [title.text.strip() for title in world_table]\n",
    "\n",
    "print(world_table_titles)"
   ]
  },
  {
   "cell_type": "code",
   "execution_count": 10,
   "id": "70ca1e19-6ce7-4c64-bb6d-fcd2b45045b4",
   "metadata": {},
   "outputs": [],
   "source": [
    "# Import pandas to assign column names to a DataFrame\n",
    "\n",
    "import pandas as pd"
   ]
  },
  {
   "cell_type": "code",
   "execution_count": 11,
   "id": "6da1a1d4-414a-431a-aa71-a5485c149170",
   "metadata": {},
   "outputs": [
    {
     "data": {
      "text/html": [
       "<div>\n",
       "<style scoped>\n",
       "    .dataframe tbody tr th:only-of-type {\n",
       "        vertical-align: middle;\n",
       "    }\n",
       "\n",
       "    .dataframe tbody tr th {\n",
       "        vertical-align: top;\n",
       "    }\n",
       "\n",
       "    .dataframe thead th {\n",
       "        text-align: right;\n",
       "    }\n",
       "</style>\n",
       "<table border=\"1\" class=\"dataframe\">\n",
       "  <thead>\n",
       "    <tr style=\"text-align: right;\">\n",
       "      <th></th>\n",
       "      <th>Rank</th>\n",
       "      <th>Name</th>\n",
       "      <th>Industry</th>\n",
       "      <th>Revenue (USD millions)</th>\n",
       "      <th>Revenue growth</th>\n",
       "      <th>Employees</th>\n",
       "      <th>Headquarters</th>\n",
       "    </tr>\n",
       "  </thead>\n",
       "  <tbody>\n",
       "  </tbody>\n",
       "</table>\n",
       "</div>"
      ],
      "text/plain": [
       "Empty DataFrame\n",
       "Columns: [Rank, Name, Industry, Revenue (USD millions), Revenue growth, Employees, Headquarters]\n",
       "Index: []"
      ]
     },
     "execution_count": 11,
     "metadata": {},
     "output_type": "execute_result"
    }
   ],
   "source": [
    "# Assign the column titles in the list as column titles in the DataFrame\n",
    "\n",
    "df = pd.DataFrame(columns = world_table_titles)\n",
    "\n",
    "df"
   ]
  },
  {
   "cell_type": "code",
   "execution_count": null,
   "id": "ace4014a-c096-44df-913f-b4a1f7218789",
   "metadata": {},
   "outputs": [],
   "source": [
    "# Locating the values for the columns\n",
    "\n",
    "table.find_all('tr')"
   ]
  },
  {
   "cell_type": "code",
   "execution_count": null,
   "id": "91558f55-6f64-4ea9-91b5-5bd9b5c898e6",
   "metadata": {},
   "outputs": [],
   "source": [
    "# Locating the values for the columns\n",
    "\n",
    "column_data = table.find_all('tr')\n",
    "\n",
    "column_data"
   ]
  },
  {
   "cell_type": "code",
   "execution_count": 14,
   "id": "f74a452c-bc1e-4451-a591-5e81cb7579aa",
   "metadata": {},
   "outputs": [],
   "source": [
    "# Using a loop to transfer data to new rows in the DataFrame\n",
    "\n",
    "for row in column_data[1:]: # Exclude the column names inside <td></td> by specifying position\n",
    "    row_data = row.find_all('td')\n",
    "    individual_row_data = [data.text.strip() for data in row_data]\n",
    "    if row.find_all('span', title = 'Decrease'): # The table contains images to indicate whether revenue growth is negative or positive\n",
    "        individual_row_data[4] = '-' + individual_row_data[4] # If the revenue growth is negative, add a minus sign  \n",
    "\n",
    "    length = len(df)\n",
    "    df.loc[length] = individual_row_data"
   ]
  },
  {
   "cell_type": "code",
   "execution_count": 15,
   "id": "32e1b78f-c406-4274-a0ae-8849fc688695",
   "metadata": {
    "scrolled": true
   },
   "outputs": [
    {
     "data": {
      "text/html": [
       "<div>\n",
       "<style scoped>\n",
       "    .dataframe tbody tr th:only-of-type {\n",
       "        vertical-align: middle;\n",
       "    }\n",
       "\n",
       "    .dataframe tbody tr th {\n",
       "        vertical-align: top;\n",
       "    }\n",
       "\n",
       "    .dataframe thead th {\n",
       "        text-align: right;\n",
       "    }\n",
       "</style>\n",
       "<table border=\"1\" class=\"dataframe\">\n",
       "  <thead>\n",
       "    <tr style=\"text-align: right;\">\n",
       "      <th></th>\n",
       "      <th>Rank</th>\n",
       "      <th>Name</th>\n",
       "      <th>Industry</th>\n",
       "      <th>Revenue (USD millions)</th>\n",
       "      <th>Revenue growth</th>\n",
       "      <th>Employees</th>\n",
       "      <th>Headquarters</th>\n",
       "    </tr>\n",
       "  </thead>\n",
       "  <tbody>\n",
       "    <tr>\n",
       "      <th>0</th>\n",
       "      <td>1</td>\n",
       "      <td>Walmart</td>\n",
       "      <td>Retail</td>\n",
       "      <td>611,289</td>\n",
       "      <td>6.7%</td>\n",
       "      <td>2,100,000</td>\n",
       "      <td>Bentonville, Arkansas</td>\n",
       "    </tr>\n",
       "    <tr>\n",
       "      <th>1</th>\n",
       "      <td>2</td>\n",
       "      <td>Amazon</td>\n",
       "      <td>Retail and cloud computing</td>\n",
       "      <td>513,983</td>\n",
       "      <td>9.4%</td>\n",
       "      <td>1,540,000</td>\n",
       "      <td>Seattle, Washington</td>\n",
       "    </tr>\n",
       "    <tr>\n",
       "      <th>2</th>\n",
       "      <td>3</td>\n",
       "      <td>ExxonMobil</td>\n",
       "      <td>Petroleum industry</td>\n",
       "      <td>413,680</td>\n",
       "      <td>44.8%</td>\n",
       "      <td>62,000</td>\n",
       "      <td>Spring, Texas</td>\n",
       "    </tr>\n",
       "    <tr>\n",
       "      <th>3</th>\n",
       "      <td>4</td>\n",
       "      <td>Apple</td>\n",
       "      <td>Electronics industry</td>\n",
       "      <td>394,328</td>\n",
       "      <td>7.8%</td>\n",
       "      <td>164,000</td>\n",
       "      <td>Cupertino, California</td>\n",
       "    </tr>\n",
       "    <tr>\n",
       "      <th>4</th>\n",
       "      <td>5</td>\n",
       "      <td>UnitedHealth Group</td>\n",
       "      <td>Healthcare</td>\n",
       "      <td>324,162</td>\n",
       "      <td>12.7%</td>\n",
       "      <td>400,000</td>\n",
       "      <td>Minnetonka, Minnesota</td>\n",
       "    </tr>\n",
       "  </tbody>\n",
       "</table>\n",
       "</div>"
      ],
      "text/plain": [
       "  Rank                Name                    Industry Revenue (USD millions)  \\\n",
       "0    1             Walmart                      Retail                611,289   \n",
       "1    2              Amazon  Retail and cloud computing                513,983   \n",
       "2    3          ExxonMobil          Petroleum industry                413,680   \n",
       "3    4               Apple        Electronics industry                394,328   \n",
       "4    5  UnitedHealth Group                  Healthcare                324,162   \n",
       "\n",
       "  Revenue growth  Employees           Headquarters  \n",
       "0           6.7%  2,100,000  Bentonville, Arkansas  \n",
       "1           9.4%  1,540,000    Seattle, Washington  \n",
       "2          44.8%     62,000          Spring, Texas  \n",
       "3           7.8%    164,000  Cupertino, California  \n",
       "4          12.7%    400,000  Minnetonka, Minnesota  "
      ]
     },
     "execution_count": 15,
     "metadata": {},
     "output_type": "execute_result"
    }
   ],
   "source": [
    "# Checking whether the data was transferred to the DataFrame successfully\n",
    "\n",
    "df.head()"
   ]
  },
  {
   "cell_type": "code",
   "execution_count": 16,
   "id": "9dc7c33f-d62f-4b90-868d-77af7da5d499",
   "metadata": {},
   "outputs": [
    {
     "data": {
      "text/plain": [
       "Rank                                            27\n",
       "Name                      Walgreens Boots Alliance\n",
       "Industry                   Pharmaceutical industry\n",
       "Revenue (USD millions)                     132,703\n",
       "Revenue growth                              -10.7%\n",
       "Employees                                  262,500\n",
       "Headquarters                   Deerfield, Illinois\n",
       "Name: 26, dtype: object"
      ]
     },
     "execution_count": 16,
     "metadata": {},
     "output_type": "execute_result"
    }
   ],
   "source": [
    "# Checking whether the loop to add a minus sign for negative revenue growth worked correctly\n",
    "\n",
    "# Revenue growth is -10.7%, loop worked successfully\n",
    "\n",
    "df.iloc[26]"
   ]
  },
  {
   "cell_type": "markdown",
   "id": "2c58cd08-710a-4272-a71e-ba473c1ef1f5",
   "metadata": {},
   "source": [
    "# Exploratory Data Cleaning"
   ]
  },
  {
   "cell_type": "code",
   "execution_count": 17,
   "id": "d6d71b28-36bd-4e37-9aa5-5533a0bcc245",
   "metadata": {},
   "outputs": [
    {
     "data": {
      "text/html": [
       "<div>\n",
       "<style scoped>\n",
       "    .dataframe tbody tr th:only-of-type {\n",
       "        vertical-align: middle;\n",
       "    }\n",
       "\n",
       "    .dataframe tbody tr th {\n",
       "        vertical-align: top;\n",
       "    }\n",
       "\n",
       "    .dataframe thead th {\n",
       "        text-align: right;\n",
       "    }\n",
       "</style>\n",
       "<table border=\"1\" class=\"dataframe\">\n",
       "  <thead>\n",
       "    <tr style=\"text-align: right;\">\n",
       "      <th></th>\n",
       "      <th>Rank</th>\n",
       "      <th>Name</th>\n",
       "      <th>Industry</th>\n",
       "      <th>Revenue (USD millions)</th>\n",
       "      <th>Revenue growth</th>\n",
       "      <th>Employees</th>\n",
       "      <th>Headquarters</th>\n",
       "    </tr>\n",
       "  </thead>\n",
       "  <tbody>\n",
       "    <tr>\n",
       "      <th>0</th>\n",
       "      <td>1</td>\n",
       "      <td>Walmart</td>\n",
       "      <td>Retail</td>\n",
       "      <td>611289</td>\n",
       "      <td>6.7</td>\n",
       "      <td>2100000</td>\n",
       "      <td>Bentonville, Arkansas</td>\n",
       "    </tr>\n",
       "    <tr>\n",
       "      <th>1</th>\n",
       "      <td>2</td>\n",
       "      <td>Amazon</td>\n",
       "      <td>Retail and cloud computing</td>\n",
       "      <td>513983</td>\n",
       "      <td>9.4</td>\n",
       "      <td>1540000</td>\n",
       "      <td>Seattle, Washington</td>\n",
       "    </tr>\n",
       "    <tr>\n",
       "      <th>2</th>\n",
       "      <td>3</td>\n",
       "      <td>ExxonMobil</td>\n",
       "      <td>Petroleum industry</td>\n",
       "      <td>413680</td>\n",
       "      <td>44.8</td>\n",
       "      <td>62000</td>\n",
       "      <td>Spring, Texas</td>\n",
       "    </tr>\n",
       "    <tr>\n",
       "      <th>3</th>\n",
       "      <td>4</td>\n",
       "      <td>Apple</td>\n",
       "      <td>Electronics industry</td>\n",
       "      <td>394328</td>\n",
       "      <td>7.8</td>\n",
       "      <td>164000</td>\n",
       "      <td>Cupertino, California</td>\n",
       "    </tr>\n",
       "    <tr>\n",
       "      <th>4</th>\n",
       "      <td>5</td>\n",
       "      <td>UnitedHealth Group</td>\n",
       "      <td>Healthcare</td>\n",
       "      <td>324162</td>\n",
       "      <td>12.7</td>\n",
       "      <td>400000</td>\n",
       "      <td>Minnetonka, Minnesota</td>\n",
       "    </tr>\n",
       "  </tbody>\n",
       "</table>\n",
       "</div>"
      ],
      "text/plain": [
       "  Rank                Name                    Industry Revenue (USD millions)  \\\n",
       "0    1             Walmart                      Retail                 611289   \n",
       "1    2              Amazon  Retail and cloud computing                 513983   \n",
       "2    3          ExxonMobil          Petroleum industry                 413680   \n",
       "3    4               Apple        Electronics industry                 394328   \n",
       "4    5  UnitedHealth Group                  Healthcare                 324162   \n",
       "\n",
       "  Revenue growth Employees           Headquarters  \n",
       "0            6.7   2100000  Bentonville, Arkansas  \n",
       "1            9.4   1540000    Seattle, Washington  \n",
       "2           44.8     62000          Spring, Texas  \n",
       "3            7.8    164000  Cupertino, California  \n",
       "4           12.7    400000  Minnetonka, Minnesota  "
      ]
     },
     "execution_count": 17,
     "metadata": {},
     "output_type": "execute_result"
    }
   ],
   "source": [
    "# Remove special characters from columns with numeric values\n",
    "\n",
    "df['Revenue (USD millions)'] = df['Revenue (USD millions)'].str.replace(',', '')\n",
    "df['Revenue growth'] = df['Revenue growth'].str.replace('%', '')\n",
    "df['Employees'] = df['Employees'].str.replace(',', '')\n",
    "df['Employees'] = df['Employees'].str.replace('[2]', '')\n",
    "\n",
    "df.head()"
   ]
  },
  {
   "cell_type": "code",
   "execution_count": 18,
   "id": "6cb49ccb-7d0b-471d-b18d-081cd7886478",
   "metadata": {},
   "outputs": [
    {
     "name": "stdout",
     "output_type": "stream",
     "text": [
      "Rank                      object\n",
      "Name                      object\n",
      "Industry                  object\n",
      "Revenue (USD millions)    object\n",
      "Revenue growth            object\n",
      "Employees                 object\n",
      "Headquarters              object\n",
      "dtype: object\n"
     ]
    }
   ],
   "source": [
    "# Checking column data types\n",
    "\n",
    "print(df.dtypes)"
   ]
  },
  {
   "cell_type": "code",
   "execution_count": 19,
   "id": "6802b6bd-e33c-4f3c-bd03-ab328f29ae72",
   "metadata": {},
   "outputs": [
    {
     "name": "stdout",
     "output_type": "stream",
     "text": [
      "Rank                        int32\n",
      "Name                       object\n",
      "Industry                   object\n",
      "Revenue (USD millions)      int32\n",
      "Revenue growth            float64\n",
      "Employees                   int32\n",
      "Headquarters               object\n",
      "dtype: object\n"
     ]
    }
   ],
   "source": [
    "# Change data types\n",
    "\n",
    "df = df.astype({'Rank': int, \n",
    "                'Name': str, \n",
    "                'Industry': str, \n",
    "                'Revenue (USD millions)': int, \n",
    "                'Revenue growth': float, \n",
    "                'Employees': int, \n",
    "                'Headquarters': str})\n",
    "\n",
    "print(df.dtypes)"
   ]
  },
  {
   "cell_type": "code",
   "execution_count": 20,
   "id": "2e769be3-0d2b-40b2-a5f2-70f55b6b423c",
   "metadata": {},
   "outputs": [
    {
     "data": {
      "text/html": [
       "<div>\n",
       "<style scoped>\n",
       "    .dataframe tbody tr th:only-of-type {\n",
       "        vertical-align: middle;\n",
       "    }\n",
       "\n",
       "    .dataframe tbody tr th {\n",
       "        vertical-align: top;\n",
       "    }\n",
       "\n",
       "    .dataframe thead th {\n",
       "        text-align: right;\n",
       "    }\n",
       "</style>\n",
       "<table border=\"1\" class=\"dataframe\">\n",
       "  <thead>\n",
       "    <tr style=\"text-align: right;\">\n",
       "      <th></th>\n",
       "      <th>Rank</th>\n",
       "      <th>Name</th>\n",
       "      <th>Industry</th>\n",
       "      <th>Revenue (USD millions)</th>\n",
       "      <th>Revenue growth</th>\n",
       "      <th>Employees</th>\n",
       "      <th>Headquarters</th>\n",
       "    </tr>\n",
       "  </thead>\n",
       "  <tbody>\n",
       "    <tr>\n",
       "      <th>0</th>\n",
       "      <td>1</td>\n",
       "      <td>Walmart</td>\n",
       "      <td>Retail</td>\n",
       "      <td>611289</td>\n",
       "      <td>0.067</td>\n",
       "      <td>2100000</td>\n",
       "      <td>Bentonville, Arkansas</td>\n",
       "    </tr>\n",
       "    <tr>\n",
       "      <th>1</th>\n",
       "      <td>2</td>\n",
       "      <td>Amazon</td>\n",
       "      <td>Retail and cloud computing</td>\n",
       "      <td>513983</td>\n",
       "      <td>0.094</td>\n",
       "      <td>1540000</td>\n",
       "      <td>Seattle, Washington</td>\n",
       "    </tr>\n",
       "    <tr>\n",
       "      <th>2</th>\n",
       "      <td>3</td>\n",
       "      <td>ExxonMobil</td>\n",
       "      <td>Petroleum industry</td>\n",
       "      <td>413680</td>\n",
       "      <td>0.448</td>\n",
       "      <td>62000</td>\n",
       "      <td>Spring, Texas</td>\n",
       "    </tr>\n",
       "    <tr>\n",
       "      <th>3</th>\n",
       "      <td>4</td>\n",
       "      <td>Apple</td>\n",
       "      <td>Electronics industry</td>\n",
       "      <td>394328</td>\n",
       "      <td>0.078</td>\n",
       "      <td>164000</td>\n",
       "      <td>Cupertino, California</td>\n",
       "    </tr>\n",
       "    <tr>\n",
       "      <th>4</th>\n",
       "      <td>5</td>\n",
       "      <td>UnitedHealth Group</td>\n",
       "      <td>Healthcare</td>\n",
       "      <td>324162</td>\n",
       "      <td>0.127</td>\n",
       "      <td>400000</td>\n",
       "      <td>Minnetonka, Minnesota</td>\n",
       "    </tr>\n",
       "  </tbody>\n",
       "</table>\n",
       "</div>"
      ],
      "text/plain": [
       "   Rank                Name                    Industry  \\\n",
       "0     1             Walmart                      Retail   \n",
       "1     2              Amazon  Retail and cloud computing   \n",
       "2     3          ExxonMobil          Petroleum industry   \n",
       "3     4               Apple        Electronics industry   \n",
       "4     5  UnitedHealth Group                  Healthcare   \n",
       "\n",
       "   Revenue (USD millions)  Revenue growth  Employees           Headquarters  \n",
       "0                  611289           0.067    2100000  Bentonville, Arkansas  \n",
       "1                  513983           0.094    1540000    Seattle, Washington  \n",
       "2                  413680           0.448      62000          Spring, Texas  \n",
       "3                  394328           0.078     164000  Cupertino, California  \n",
       "4                  324162           0.127     400000  Minnetonka, Minnesota  "
      ]
     },
     "execution_count": 20,
     "metadata": {},
     "output_type": "execute_result"
    }
   ],
   "source": [
    "# Convert 'Revenue growth' column from percentage to decimal\n",
    "\n",
    "df['Revenue growth'] = df['Revenue growth'] / 100\n",
    "\n",
    "df.head()"
   ]
  },
  {
   "cell_type": "code",
   "execution_count": 21,
   "id": "6d58fef8-2d84-4c57-b181-50f8616e49b0",
   "metadata": {},
   "outputs": [
    {
     "data": {
      "text/html": [
       "<div>\n",
       "<style scoped>\n",
       "    .dataframe tbody tr th:only-of-type {\n",
       "        vertical-align: middle;\n",
       "    }\n",
       "\n",
       "    .dataframe tbody tr th {\n",
       "        vertical-align: top;\n",
       "    }\n",
       "\n",
       "    .dataframe thead th {\n",
       "        text-align: right;\n",
       "    }\n",
       "</style>\n",
       "<table border=\"1\" class=\"dataframe\">\n",
       "  <thead>\n",
       "    <tr style=\"text-align: right;\">\n",
       "      <th></th>\n",
       "      <th>Name</th>\n",
       "      <th>Industry</th>\n",
       "      <th>Revenue (USD millions)</th>\n",
       "      <th>Revenue growth</th>\n",
       "      <th>Employees</th>\n",
       "      <th>Headquarters</th>\n",
       "    </tr>\n",
       "  </thead>\n",
       "  <tbody>\n",
       "    <tr>\n",
       "      <th>0</th>\n",
       "      <td>Walmart</td>\n",
       "      <td>Retail</td>\n",
       "      <td>611289</td>\n",
       "      <td>0.067</td>\n",
       "      <td>2100000</td>\n",
       "      <td>Bentonville, Arkansas</td>\n",
       "    </tr>\n",
       "    <tr>\n",
       "      <th>1</th>\n",
       "      <td>Amazon</td>\n",
       "      <td>Retail and cloud computing</td>\n",
       "      <td>513983</td>\n",
       "      <td>0.094</td>\n",
       "      <td>1540000</td>\n",
       "      <td>Seattle, Washington</td>\n",
       "    </tr>\n",
       "    <tr>\n",
       "      <th>2</th>\n",
       "      <td>ExxonMobil</td>\n",
       "      <td>Petroleum industry</td>\n",
       "      <td>413680</td>\n",
       "      <td>0.448</td>\n",
       "      <td>62000</td>\n",
       "      <td>Spring, Texas</td>\n",
       "    </tr>\n",
       "    <tr>\n",
       "      <th>3</th>\n",
       "      <td>Apple</td>\n",
       "      <td>Electronics industry</td>\n",
       "      <td>394328</td>\n",
       "      <td>0.078</td>\n",
       "      <td>164000</td>\n",
       "      <td>Cupertino, California</td>\n",
       "    </tr>\n",
       "    <tr>\n",
       "      <th>4</th>\n",
       "      <td>UnitedHealth Group</td>\n",
       "      <td>Healthcare</td>\n",
       "      <td>324162</td>\n",
       "      <td>0.127</td>\n",
       "      <td>400000</td>\n",
       "      <td>Minnetonka, Minnesota</td>\n",
       "    </tr>\n",
       "  </tbody>\n",
       "</table>\n",
       "</div>"
      ],
      "text/plain": [
       "                 Name                    Industry  Revenue (USD millions)  \\\n",
       "0             Walmart                      Retail                  611289   \n",
       "1              Amazon  Retail and cloud computing                  513983   \n",
       "2          ExxonMobil          Petroleum industry                  413680   \n",
       "3               Apple        Electronics industry                  394328   \n",
       "4  UnitedHealth Group                  Healthcare                  324162   \n",
       "\n",
       "   Revenue growth  Employees           Headquarters  \n",
       "0           0.067    2100000  Bentonville, Arkansas  \n",
       "1           0.094    1540000    Seattle, Washington  \n",
       "2           0.448      62000          Spring, Texas  \n",
       "3           0.078     164000  Cupertino, California  \n",
       "4           0.127     400000  Minnetonka, Minnesota  "
      ]
     },
     "execution_count": 21,
     "metadata": {},
     "output_type": "execute_result"
    }
   ],
   "source": [
    "# Drop the 'Rank' column, unnecessary for analysis\n",
    "\n",
    "df.drop('Rank', axis=1, inplace=True)\n",
    "\n",
    "df.head()"
   ]
  },
  {
   "cell_type": "code",
   "execution_count": 22,
   "id": "699a1350-8355-4a3a-be31-67d6fb76a07f",
   "metadata": {},
   "outputs": [
    {
     "data": {
      "text/html": [
       "<div>\n",
       "<style scoped>\n",
       "    .dataframe tbody tr th:only-of-type {\n",
       "        vertical-align: middle;\n",
       "    }\n",
       "\n",
       "    .dataframe tbody tr th {\n",
       "        vertical-align: top;\n",
       "    }\n",
       "\n",
       "    .dataframe thead th {\n",
       "        text-align: right;\n",
       "    }\n",
       "</style>\n",
       "<table border=\"1\" class=\"dataframe\">\n",
       "  <thead>\n",
       "    <tr style=\"text-align: right;\">\n",
       "      <th></th>\n",
       "      <th>Name</th>\n",
       "      <th>Industry</th>\n",
       "      <th>Revenue (USD millions)</th>\n",
       "      <th>Revenue growth</th>\n",
       "      <th>Employees</th>\n",
       "      <th>Headquarters</th>\n",
       "    </tr>\n",
       "  </thead>\n",
       "  <tbody>\n",
       "    <tr>\n",
       "      <th>0</th>\n",
       "      <td>Walmart</td>\n",
       "      <td>Retail</td>\n",
       "      <td>611289</td>\n",
       "      <td>0.067</td>\n",
       "      <td>2100000</td>\n",
       "      <td>Arkansas</td>\n",
       "    </tr>\n",
       "    <tr>\n",
       "      <th>1</th>\n",
       "      <td>Amazon</td>\n",
       "      <td>Retail and cloud computing</td>\n",
       "      <td>513983</td>\n",
       "      <td>0.094</td>\n",
       "      <td>1540000</td>\n",
       "      <td>Washington</td>\n",
       "    </tr>\n",
       "    <tr>\n",
       "      <th>2</th>\n",
       "      <td>ExxonMobil</td>\n",
       "      <td>Petroleum industry</td>\n",
       "      <td>413680</td>\n",
       "      <td>0.448</td>\n",
       "      <td>62000</td>\n",
       "      <td>Texas</td>\n",
       "    </tr>\n",
       "    <tr>\n",
       "      <th>3</th>\n",
       "      <td>Apple</td>\n",
       "      <td>Electronics industry</td>\n",
       "      <td>394328</td>\n",
       "      <td>0.078</td>\n",
       "      <td>164000</td>\n",
       "      <td>California</td>\n",
       "    </tr>\n",
       "    <tr>\n",
       "      <th>4</th>\n",
       "      <td>UnitedHealth Group</td>\n",
       "      <td>Healthcare</td>\n",
       "      <td>324162</td>\n",
       "      <td>0.127</td>\n",
       "      <td>400000</td>\n",
       "      <td>Minnesota</td>\n",
       "    </tr>\n",
       "  </tbody>\n",
       "</table>\n",
       "</div>"
      ],
      "text/plain": [
       "                 Name                    Industry  Revenue (USD millions)  \\\n",
       "0             Walmart                      Retail                  611289   \n",
       "1              Amazon  Retail and cloud computing                  513983   \n",
       "2          ExxonMobil          Petroleum industry                  413680   \n",
       "3               Apple        Electronics industry                  394328   \n",
       "4  UnitedHealth Group                  Healthcare                  324162   \n",
       "\n",
       "   Revenue growth  Employees Headquarters  \n",
       "0           0.067    2100000     Arkansas  \n",
       "1           0.094    1540000   Washington  \n",
       "2           0.448      62000        Texas  \n",
       "3           0.078     164000   California  \n",
       "4           0.127     400000    Minnesota  "
      ]
     },
     "execution_count": 22,
     "metadata": {},
     "output_type": "execute_result"
    }
   ],
   "source": [
    "# Extract the states only from the 'Headquarters' column\n",
    "\n",
    "df['Headquarters'] = df['Headquarters'].str.split(',').str.get(-1)\n",
    "\n",
    "df.head()"
   ]
  },
  {
   "cell_type": "code",
   "execution_count": 23,
   "id": "2096a6f0-9073-4e63-b7ef-6b5651c39222",
   "metadata": {},
   "outputs": [
    {
     "data": {
      "text/html": [
       "<div>\n",
       "<style scoped>\n",
       "    .dataframe tbody tr th:only-of-type {\n",
       "        vertical-align: middle;\n",
       "    }\n",
       "\n",
       "    .dataframe tbody tr th {\n",
       "        vertical-align: top;\n",
       "    }\n",
       "\n",
       "    .dataframe thead th {\n",
       "        text-align: right;\n",
       "    }\n",
       "</style>\n",
       "<table border=\"1\" class=\"dataframe\">\n",
       "  <thead>\n",
       "    <tr style=\"text-align: right;\">\n",
       "      <th></th>\n",
       "      <th>Name</th>\n",
       "      <th>Industry</th>\n",
       "      <th>Revenue (USD millions)</th>\n",
       "      <th>Revenue growth</th>\n",
       "      <th>Employees</th>\n",
       "      <th>Headquarters</th>\n",
       "      <th>Revenue per employee</th>\n",
       "    </tr>\n",
       "  </thead>\n",
       "  <tbody>\n",
       "    <tr>\n",
       "      <th>0</th>\n",
       "      <td>Walmart</td>\n",
       "      <td>Retail</td>\n",
       "      <td>611289</td>\n",
       "      <td>0.067</td>\n",
       "      <td>2100000</td>\n",
       "      <td>Arkansas</td>\n",
       "      <td>0.29</td>\n",
       "    </tr>\n",
       "    <tr>\n",
       "      <th>1</th>\n",
       "      <td>Amazon</td>\n",
       "      <td>Retail and cloud computing</td>\n",
       "      <td>513983</td>\n",
       "      <td>0.094</td>\n",
       "      <td>1540000</td>\n",
       "      <td>Washington</td>\n",
       "      <td>0.33</td>\n",
       "    </tr>\n",
       "    <tr>\n",
       "      <th>2</th>\n",
       "      <td>ExxonMobil</td>\n",
       "      <td>Petroleum industry</td>\n",
       "      <td>413680</td>\n",
       "      <td>0.448</td>\n",
       "      <td>62000</td>\n",
       "      <td>Texas</td>\n",
       "      <td>6.67</td>\n",
       "    </tr>\n",
       "    <tr>\n",
       "      <th>3</th>\n",
       "      <td>Apple</td>\n",
       "      <td>Electronics industry</td>\n",
       "      <td>394328</td>\n",
       "      <td>0.078</td>\n",
       "      <td>164000</td>\n",
       "      <td>California</td>\n",
       "      <td>2.40</td>\n",
       "    </tr>\n",
       "    <tr>\n",
       "      <th>4</th>\n",
       "      <td>UnitedHealth Group</td>\n",
       "      <td>Healthcare</td>\n",
       "      <td>324162</td>\n",
       "      <td>0.127</td>\n",
       "      <td>400000</td>\n",
       "      <td>Minnesota</td>\n",
       "      <td>0.81</td>\n",
       "    </tr>\n",
       "  </tbody>\n",
       "</table>\n",
       "</div>"
      ],
      "text/plain": [
       "                 Name                    Industry  Revenue (USD millions)  \\\n",
       "0             Walmart                      Retail                  611289   \n",
       "1              Amazon  Retail and cloud computing                  513983   \n",
       "2          ExxonMobil          Petroleum industry                  413680   \n",
       "3               Apple        Electronics industry                  394328   \n",
       "4  UnitedHealth Group                  Healthcare                  324162   \n",
       "\n",
       "   Revenue growth  Employees Headquarters  Revenue per employee  \n",
       "0           0.067    2100000     Arkansas                  0.29  \n",
       "1           0.094    1540000   Washington                  0.33  \n",
       "2           0.448      62000        Texas                  6.67  \n",
       "3           0.078     164000   California                  2.40  \n",
       "4           0.127     400000    Minnesota                  0.81  "
      ]
     },
     "execution_count": 23,
     "metadata": {},
     "output_type": "execute_result"
    }
   ],
   "source": [
    "# Add new column 'Revenue per employee'\n",
    "\n",
    "df['Revenue per employee'] = round(df['Revenue (USD millions)'] / df['Employees'], 2)\n",
    "\n",
    "df.head()"
   ]
  },
  {
   "cell_type": "markdown",
   "id": "c3778fa8-cb32-42e8-92b9-223fa79ac804",
   "metadata": {},
   "source": [
    "# Exploratory Data Analysis"
   ]
  },
  {
   "cell_type": "code",
   "execution_count": 24,
   "id": "eaed0828-dff3-4e11-a5d0-e1a11300e08d",
   "metadata": {},
   "outputs": [
    {
     "data": {
      "text/html": [
       "<div>\n",
       "<style scoped>\n",
       "    .dataframe tbody tr th:only-of-type {\n",
       "        vertical-align: middle;\n",
       "    }\n",
       "\n",
       "    .dataframe tbody tr th {\n",
       "        vertical-align: top;\n",
       "    }\n",
       "\n",
       "    .dataframe thead th {\n",
       "        text-align: right;\n",
       "    }\n",
       "</style>\n",
       "<table border=\"1\" class=\"dataframe\">\n",
       "  <thead>\n",
       "    <tr style=\"text-align: right;\">\n",
       "      <th></th>\n",
       "      <th>Name</th>\n",
       "      <th>Industry</th>\n",
       "      <th>Revenue (USD millions)</th>\n",
       "      <th>Revenue growth</th>\n",
       "      <th>Employees</th>\n",
       "      <th>Headquarters</th>\n",
       "      <th>Revenue per employee</th>\n",
       "    </tr>\n",
       "  </thead>\n",
       "  <tbody>\n",
       "    <tr>\n",
       "      <th>0</th>\n",
       "      <td>Walmart</td>\n",
       "      <td>Retail</td>\n",
       "      <td>611289</td>\n",
       "      <td>0.067</td>\n",
       "      <td>2100000</td>\n",
       "      <td>Arkansas</td>\n",
       "      <td>0.29</td>\n",
       "    </tr>\n",
       "  </tbody>\n",
       "</table>\n",
       "</div>"
      ],
      "text/plain": [
       "      Name Industry  Revenue (USD millions)  Revenue growth  Employees  \\\n",
       "0  Walmart   Retail                  611289           0.067    2100000   \n",
       "\n",
       "  Headquarters  Revenue per employee  \n",
       "0     Arkansas                  0.29  "
      ]
     },
     "execution_count": 24,
     "metadata": {},
     "output_type": "execute_result"
    }
   ],
   "source": [
    "# Getting the company with the most employees\n",
    "\n",
    "df_sorted = df.sort_values(by = 'Employees', ascending = False, ignore_index = True)\n",
    "\n",
    "df_sorted.head(1)"
   ]
  },
  {
   "cell_type": "code",
   "execution_count": 25,
   "id": "933edc85-c6d9-45b0-b239-3ae726fd9336",
   "metadata": {},
   "outputs": [
    {
     "data": {
      "text/html": [
       "<div>\n",
       "<style scoped>\n",
       "    .dataframe tbody tr th:only-of-type {\n",
       "        vertical-align: middle;\n",
       "    }\n",
       "\n",
       "    .dataframe tbody tr th {\n",
       "        vertical-align: top;\n",
       "    }\n",
       "\n",
       "    .dataframe thead th {\n",
       "        text-align: right;\n",
       "    }\n",
       "</style>\n",
       "<table border=\"1\" class=\"dataframe\">\n",
       "  <thead>\n",
       "    <tr style=\"text-align: right;\">\n",
       "      <th></th>\n",
       "      <th>Name</th>\n",
       "      <th>Industry</th>\n",
       "      <th>Revenue (USD millions)</th>\n",
       "      <th>Revenue growth</th>\n",
       "      <th>Employees</th>\n",
       "      <th>Headquarters</th>\n",
       "      <th>Revenue per employee</th>\n",
       "    </tr>\n",
       "  </thead>\n",
       "  <tbody>\n",
       "    <tr>\n",
       "      <th>0</th>\n",
       "      <td>PBF Energy</td>\n",
       "      <td>Petroleum industry</td>\n",
       "      <td>46830</td>\n",
       "      <td>0.718</td>\n",
       "      <td>3616</td>\n",
       "      <td>New Jersey</td>\n",
       "      <td>12.95</td>\n",
       "    </tr>\n",
       "  </tbody>\n",
       "</table>\n",
       "</div>"
      ],
      "text/plain": [
       "         Name            Industry  Revenue (USD millions)  Revenue growth  \\\n",
       "0  PBF Energy  Petroleum industry                   46830           0.718   \n",
       "\n",
       "   Employees Headquarters  Revenue per employee  \n",
       "0       3616   New Jersey                 12.95  "
      ]
     },
     "execution_count": 25,
     "metadata": {},
     "output_type": "execute_result"
    }
   ],
   "source": [
    "# Getting the company with the least employees\n",
    "\n",
    "df_sorted = df.sort_values(by = 'Employees', ascending = True, ignore_index = True)\n",
    "\n",
    "df_sorted.head(1)"
   ]
  },
  {
   "cell_type": "code",
   "execution_count": 26,
   "id": "c8762e19-c716-4c04-abdf-0626632fab11",
   "metadata": {},
   "outputs": [
    {
     "data": {
      "text/plain": [
       "80824.5"
      ]
     },
     "execution_count": 26,
     "metadata": {},
     "output_type": "execute_result"
    }
   ],
   "source": [
    "# Getting the average revenue\n",
    "\n",
    "df['Revenue (USD millions)'].median(axis = 0)"
   ]
  },
  {
   "cell_type": "code",
   "execution_count": 27,
   "id": "9b244c9b-07f2-4f0d-a094-47328d163d67",
   "metadata": {},
   "outputs": [
    {
     "name": "stdout",
     "output_type": "stream",
     "text": [
      "Industry\n",
      "Aerospace and defense                  66296.00\n",
      "Agriculture cooperative                47194.00\n",
      "Agriculture manufacturing              52577.00\n",
      "Airline                                48169.33\n",
      "Apparel                                46710.00\n",
      "Automotive and energy                  81462.00\n",
      "Automotive industry                   157396.00\n",
      "Beverage                               86859.00\n",
      "Chemical industry                      56902.00\n",
      "Conglomerate                          148572.67\n",
      "Conglomerate and telecomunications    120741.00\n",
      "Consumer products manufacturing        80187.00\n",
      "Electronics industry                  394328.00\n",
      "Financial                              53537.50\n",
      "Financial services                    154792.00\n",
      "Financials                             84296.55\n",
      "Food industry                          84394.00\n",
      "Food processing                        50238.00\n",
      "Food service                           68636.00\n",
      "Health                                276711.00\n",
      "Health insurance                      136693.00\n",
      "Healthcare                            198228.00\n",
      "Infotech                               62344.00\n",
      "Insurance                              53172.20\n",
      "Laboratory instruments                 44915.00\n",
      "Logistics                              78620.00\n",
      "Machinery                              59427.00\n",
      "Media                                  82722.00\n",
      "Petroleum industry                    152122.50\n",
      "Petroleum industry and logistics       59043.00\n",
      "Pharmaceutical industry                81912.00\n",
      "Pharmacy wholesale                    238587.00\n",
      "Retail                                157890.90\n",
      "Retail and cloud computing            513983.00\n",
      "Technology                             77829.40\n",
      "Technology and cloud computing        180545.33\n",
      "Telecom hardware manufacturing         51557.00\n",
      "Telecommunications                    104094.67\n",
      "Transportation                         96925.00\n",
      "Name: Revenue (USD millions), dtype: float64\n"
     ]
    }
   ],
   "source": [
    "# Calculating the average revenue per industy\n",
    "\n",
    "avg_revenue = round(df.groupby(['Industry'])['Revenue (USD millions)'].mean(), 2)\n",
    "\n",
    "print(avg_revenue)"
   ]
  },
  {
   "cell_type": "code",
   "execution_count": 28,
   "id": "50d37795-0821-455b-83cd-cd1951a87dd1",
   "metadata": {},
   "outputs": [
    {
     "data": {
      "text/html": [
       "<div>\n",
       "<style scoped>\n",
       "    .dataframe tbody tr th:only-of-type {\n",
       "        vertical-align: middle;\n",
       "    }\n",
       "\n",
       "    .dataframe tbody tr th {\n",
       "        vertical-align: top;\n",
       "    }\n",
       "\n",
       "    .dataframe thead th {\n",
       "        text-align: right;\n",
       "    }\n",
       "</style>\n",
       "<table border=\"1\" class=\"dataframe\">\n",
       "  <thead>\n",
       "    <tr style=\"text-align: right;\">\n",
       "      <th></th>\n",
       "      <th>Revenue (USD millions)</th>\n",
       "      <th>Revenue growth</th>\n",
       "      <th>Employees</th>\n",
       "      <th>Revenue per employee</th>\n",
       "    </tr>\n",
       "  </thead>\n",
       "  <tbody>\n",
       "    <tr>\n",
       "      <th>Revenue (USD millions)</th>\n",
       "      <td>1.000000</td>\n",
       "      <td>-0.054699</td>\n",
       "      <td>0.641994</td>\n",
       "      <td>0.044186</td>\n",
       "    </tr>\n",
       "    <tr>\n",
       "      <th>Revenue growth</th>\n",
       "      <td>-0.054699</td>\n",
       "      <td>1.000000</td>\n",
       "      <td>-0.205546</td>\n",
       "      <td>0.510497</td>\n",
       "    </tr>\n",
       "    <tr>\n",
       "      <th>Employees</th>\n",
       "      <td>0.641994</td>\n",
       "      <td>-0.205546</td>\n",
       "      <td>1.000000</td>\n",
       "      <td>-0.291540</td>\n",
       "    </tr>\n",
       "    <tr>\n",
       "      <th>Revenue per employee</th>\n",
       "      <td>0.044186</td>\n",
       "      <td>0.510497</td>\n",
       "      <td>-0.291540</td>\n",
       "      <td>1.000000</td>\n",
       "    </tr>\n",
       "  </tbody>\n",
       "</table>\n",
       "</div>"
      ],
      "text/plain": [
       "                        Revenue (USD millions)  Revenue growth  Employees  \\\n",
       "Revenue (USD millions)                1.000000       -0.054699   0.641994   \n",
       "Revenue growth                       -0.054699        1.000000  -0.205546   \n",
       "Employees                             0.641994       -0.205546   1.000000   \n",
       "Revenue per employee                  0.044186        0.510497  -0.291540   \n",
       "\n",
       "                        Revenue per employee  \n",
       "Revenue (USD millions)              0.044186  \n",
       "Revenue growth                      0.510497  \n",
       "Employees                          -0.291540  \n",
       "Revenue per employee                1.000000  "
      ]
     },
     "execution_count": 28,
     "metadata": {},
     "output_type": "execute_result"
    }
   ],
   "source": [
    "# Checking for correlations\n",
    "\n",
    "df.corr(numeric_only = True)"
   ]
  },
  {
   "cell_type": "code",
   "execution_count": 29,
   "id": "c4ad74d7-7090-4bf4-98f0-7fb662207506",
   "metadata": {},
   "outputs": [
    {
     "data": {
      "text/html": [
       "<div>\n",
       "<style scoped>\n",
       "    .dataframe tbody tr th:only-of-type {\n",
       "        vertical-align: middle;\n",
       "    }\n",
       "\n",
       "    .dataframe tbody tr th {\n",
       "        vertical-align: top;\n",
       "    }\n",
       "\n",
       "    .dataframe thead th {\n",
       "        text-align: right;\n",
       "    }\n",
       "</style>\n",
       "<table border=\"1\" class=\"dataframe\">\n",
       "  <thead>\n",
       "    <tr style=\"text-align: right;\">\n",
       "      <th></th>\n",
       "      <th>Revenue (USD millions)</th>\n",
       "      <th>Revenue growth</th>\n",
       "      <th>Employees</th>\n",
       "      <th>Revenue per employee</th>\n",
       "    </tr>\n",
       "  </thead>\n",
       "  <tbody>\n",
       "    <tr>\n",
       "      <th>Revenue (USD millions)</th>\n",
       "      <td>1.000000</td>\n",
       "      <td>-0.004245</td>\n",
       "      <td>0.236459</td>\n",
       "      <td>0.084211</td>\n",
       "    </tr>\n",
       "    <tr>\n",
       "      <th>Revenue growth</th>\n",
       "      <td>-0.004245</td>\n",
       "      <td>1.000000</td>\n",
       "      <td>-0.262259</td>\n",
       "      <td>0.283342</td>\n",
       "    </tr>\n",
       "    <tr>\n",
       "      <th>Employees</th>\n",
       "      <td>0.236459</td>\n",
       "      <td>-0.262259</td>\n",
       "      <td>1.000000</td>\n",
       "      <td>-0.681110</td>\n",
       "    </tr>\n",
       "    <tr>\n",
       "      <th>Revenue per employee</th>\n",
       "      <td>0.084211</td>\n",
       "      <td>0.283342</td>\n",
       "      <td>-0.681110</td>\n",
       "      <td>1.000000</td>\n",
       "    </tr>\n",
       "  </tbody>\n",
       "</table>\n",
       "</div>"
      ],
      "text/plain": [
       "                        Revenue (USD millions)  Revenue growth  Employees  \\\n",
       "Revenue (USD millions)                1.000000       -0.004245   0.236459   \n",
       "Revenue growth                       -0.004245        1.000000  -0.262259   \n",
       "Employees                             0.236459       -0.262259   1.000000   \n",
       "Revenue per employee                  0.084211        0.283342  -0.681110   \n",
       "\n",
       "                        Revenue per employee  \n",
       "Revenue (USD millions)              0.084211  \n",
       "Revenue growth                      0.283342  \n",
       "Employees                          -0.681110  \n",
       "Revenue per employee                1.000000  "
      ]
     },
     "execution_count": 29,
     "metadata": {},
     "output_type": "execute_result"
    }
   ],
   "source": [
    "df.corr(method = 'kendall', numeric_only = True)"
   ]
  },
  {
   "cell_type": "code",
   "execution_count": 30,
   "id": "0d56b238-9700-4bae-925f-85a26d6c0b09",
   "metadata": {},
   "outputs": [
    {
     "data": {
      "text/html": [
       "<div>\n",
       "<style scoped>\n",
       "    .dataframe tbody tr th:only-of-type {\n",
       "        vertical-align: middle;\n",
       "    }\n",
       "\n",
       "    .dataframe tbody tr th {\n",
       "        vertical-align: top;\n",
       "    }\n",
       "\n",
       "    .dataframe thead th {\n",
       "        text-align: right;\n",
       "    }\n",
       "</style>\n",
       "<table border=\"1\" class=\"dataframe\">\n",
       "  <thead>\n",
       "    <tr style=\"text-align: right;\">\n",
       "      <th></th>\n",
       "      <th>Revenue (USD millions)</th>\n",
       "      <th>Revenue growth</th>\n",
       "      <th>Employees</th>\n",
       "      <th>Revenue per employee</th>\n",
       "    </tr>\n",
       "  </thead>\n",
       "  <tbody>\n",
       "    <tr>\n",
       "      <th>Revenue (USD millions)</th>\n",
       "      <td>1.000000</td>\n",
       "      <td>-0.054699</td>\n",
       "      <td>0.641994</td>\n",
       "      <td>0.044186</td>\n",
       "    </tr>\n",
       "    <tr>\n",
       "      <th>Revenue growth</th>\n",
       "      <td>-0.054699</td>\n",
       "      <td>1.000000</td>\n",
       "      <td>-0.205546</td>\n",
       "      <td>0.510497</td>\n",
       "    </tr>\n",
       "    <tr>\n",
       "      <th>Employees</th>\n",
       "      <td>0.641994</td>\n",
       "      <td>-0.205546</td>\n",
       "      <td>1.000000</td>\n",
       "      <td>-0.291540</td>\n",
       "    </tr>\n",
       "    <tr>\n",
       "      <th>Revenue per employee</th>\n",
       "      <td>0.044186</td>\n",
       "      <td>0.510497</td>\n",
       "      <td>-0.291540</td>\n",
       "      <td>1.000000</td>\n",
       "    </tr>\n",
       "  </tbody>\n",
       "</table>\n",
       "</div>"
      ],
      "text/plain": [
       "                        Revenue (USD millions)  Revenue growth  Employees  \\\n",
       "Revenue (USD millions)                1.000000       -0.054699   0.641994   \n",
       "Revenue growth                       -0.054699        1.000000  -0.205546   \n",
       "Employees                             0.641994       -0.205546   1.000000   \n",
       "Revenue per employee                  0.044186        0.510497  -0.291540   \n",
       "\n",
       "                        Revenue per employee  \n",
       "Revenue (USD millions)              0.044186  \n",
       "Revenue growth                      0.510497  \n",
       "Employees                          -0.291540  \n",
       "Revenue per employee                1.000000  "
      ]
     },
     "execution_count": 30,
     "metadata": {},
     "output_type": "execute_result"
    }
   ],
   "source": [
    "df.corr(method = 'pearson', numeric_only = True)"
   ]
  },
  {
   "cell_type": "code",
   "execution_count": 31,
   "id": "93bc48bb-c134-45ff-9389-66fe05567613",
   "metadata": {},
   "outputs": [
    {
     "data": {
      "text/html": [
       "<div>\n",
       "<style scoped>\n",
       "    .dataframe tbody tr th:only-of-type {\n",
       "        vertical-align: middle;\n",
       "    }\n",
       "\n",
       "    .dataframe tbody tr th {\n",
       "        vertical-align: top;\n",
       "    }\n",
       "\n",
       "    .dataframe thead th {\n",
       "        text-align: right;\n",
       "    }\n",
       "</style>\n",
       "<table border=\"1\" class=\"dataframe\">\n",
       "  <thead>\n",
       "    <tr style=\"text-align: right;\">\n",
       "      <th></th>\n",
       "      <th>Revenue (USD millions)</th>\n",
       "      <th>Revenue growth</th>\n",
       "      <th>Employees</th>\n",
       "      <th>Revenue per employee</th>\n",
       "    </tr>\n",
       "  </thead>\n",
       "  <tbody>\n",
       "    <tr>\n",
       "      <th>Revenue (USD millions)</th>\n",
       "      <td>1.000000</td>\n",
       "      <td>0.000642</td>\n",
       "      <td>0.336566</td>\n",
       "      <td>0.131765</td>\n",
       "    </tr>\n",
       "    <tr>\n",
       "      <th>Revenue growth</th>\n",
       "      <td>0.000642</td>\n",
       "      <td>1.000000</td>\n",
       "      <td>-0.383911</td>\n",
       "      <td>0.406741</td>\n",
       "    </tr>\n",
       "    <tr>\n",
       "      <th>Employees</th>\n",
       "      <td>0.336566</td>\n",
       "      <td>-0.383911</td>\n",
       "      <td>1.000000</td>\n",
       "      <td>-0.857523</td>\n",
       "    </tr>\n",
       "    <tr>\n",
       "      <th>Revenue per employee</th>\n",
       "      <td>0.131765</td>\n",
       "      <td>0.406741</td>\n",
       "      <td>-0.857523</td>\n",
       "      <td>1.000000</td>\n",
       "    </tr>\n",
       "  </tbody>\n",
       "</table>\n",
       "</div>"
      ],
      "text/plain": [
       "                        Revenue (USD millions)  Revenue growth  Employees  \\\n",
       "Revenue (USD millions)                1.000000        0.000642   0.336566   \n",
       "Revenue growth                        0.000642        1.000000  -0.383911   \n",
       "Employees                             0.336566       -0.383911   1.000000   \n",
       "Revenue per employee                  0.131765        0.406741  -0.857523   \n",
       "\n",
       "                        Revenue per employee  \n",
       "Revenue (USD millions)              0.131765  \n",
       "Revenue growth                      0.406741  \n",
       "Employees                          -0.857523  \n",
       "Revenue per employee                1.000000  "
      ]
     },
     "execution_count": 31,
     "metadata": {},
     "output_type": "execute_result"
    }
   ],
   "source": [
    "df.corr(method = 'spearman', numeric_only = True)"
   ]
  },
  {
   "cell_type": "code",
   "execution_count": 32,
   "id": "c8d52759-b5ab-439e-bc0b-8d3369596f9e",
   "metadata": {},
   "outputs": [],
   "source": [
    "# Overall, no strong correlations between variables"
   ]
  },
  {
   "cell_type": "code",
   "execution_count": 33,
   "id": "cad8e911-e5bf-42c1-b9ce-751c124dbe51",
   "metadata": {},
   "outputs": [],
   "source": [
    "# Importing matplotlib for visualization\n",
    "\n",
    "import matplotlib.pyplot as plt"
   ]
  },
  {
   "cell_type": "code",
   "execution_count": 38,
   "id": "c2c11e38-adf0-44aa-9dbd-bcde4535f72c",
   "metadata": {},
   "outputs": [
    {
     "data": {
      "image/png": "[encoded data removed]",
      "text/plain": [
       "<Figure size 640x480 with 1 Axes>"
      ]
     },
     "metadata": {},
     "output_type": "display_data"
    }
   ],
   "source": [
    "df.plot(kind = 'scatter', x = 'Revenue (USD millions)', y = 'Employees')\n",
    "\n",
    "plt.show()"
   ]
  },
  {
   "cell_type": "code",
   "execution_count": 39,
   "id": "6c1e834e-9340-425d-a781-4ed559a34c33",
   "metadata": {},
   "outputs": [
    {
     "data": {
      "image/png": "[encoded data removed]",
      "text/plain": [
       "<Figure size 640x480 with 1 Axes>"
      ]
     },
     "metadata": {},
     "output_type": "display_data"
    }
   ],
   "source": [
    "df.plot(kind = 'scatter', x = 'Employees', y = 'Revenue per employee')\n",
    "\n",
    "plt.show()"
   ]
  },
  {
   "cell_type": "code",
   "execution_count": 36,
   "id": "006945aa-0631-4eb4-bb2b-3014475ee49b",
   "metadata": {},
   "outputs": [
    {
     "data": {
      "image/png": "[encoded data removed]",
      "text/plain": [
       "<Figure size 640x480 with 1 Axes>"
      ]
     },
     "metadata": {},
     "output_type": "display_data"
    }
   ],
   "source": [
    "df.plot(kind = 'scatter', x = 'Revenue growth', y = 'Employees')\n",
    "\n",
    "plt.show()"
   ]
  },
  {
   "cell_type": "code",
   "execution_count": 37,
   "id": "3e756b19-43cd-419e-be6c-064736d4cbb4",
   "metadata": {},
   "outputs": [],
   "source": [
    "# Import DataFrame to .CSV\n",
    "\n",
    "df.to_csv(r'C:\\Users\\Nicolas\\Documents\\Work\\SQL\\Data Cleaning\\Companies.csv', index = False)"
   ]
  }
 ],
 "metadata": {
  "kernelspec": {
   "display_name": "Python 3 (ipykernel)",
   "language": "python",
   "name": "python3"
  },
  "language_info": {
   "codemirror_mode": {
    "name": "ipython",
    "version": 3
   },
   "file_extension": ".py",
   "mimetype": "text/x-python",
   "name": "python",
   "nbconvert_exporter": "python",
   "pygments_lexer": "ipython3",
   "version": "3.11.7"
  }
 },
 "nbformat": 4,
 "nbformat_minor": 5
}
